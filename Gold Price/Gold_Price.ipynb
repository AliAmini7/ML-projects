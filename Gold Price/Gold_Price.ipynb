{
  "nbformat": 4,
  "nbformat_minor": 0,
  "metadata": {
    "colab": {
      "name": "Gold Price.ipynb",
      "provenance": [],
      "collapsed_sections": []
    },
    "kernelspec": {
      "name": "python3",
      "display_name": "Python 3"
    },
    "language_info": {
      "name": "python"
    }
  },
  "cells": [
    {
      "cell_type": "markdown",
      "metadata": {
        "id": "OMs1tNZTrBMQ"
      },
      "source": [
        "Importing dependencies"
      ]
    },
    {
      "cell_type": "code",
      "metadata": {
        "id": "AVXCPQ8Vpv--"
      },
      "source": [
        "import numpy as np\n",
        "import pandas as pd\n",
        "import seaborn as sns\n",
        "import matplotlib.pyplot as plt\n",
        "from sklearn.model_selection import train_test_split\n",
        "from sklearn.ensemble import RandomForestRegressor\n",
        "from sklearn import metrics"
      ],
      "execution_count": 31,
      "outputs": []
    },
    {
      "cell_type": "code",
      "metadata": {
        "id": "3_G_xq8Brp48"
      },
      "source": [
        "#Data collection\n",
        "gold_data = pd.read_csv('/content/gld_price_data.csv')"
      ],
      "execution_count": 32,
      "outputs": []
    },
    {
      "cell_type": "code",
      "metadata": {
        "colab": {
          "base_uri": "https://localhost:8080/",
          "height": 203
        },
        "id": "2TFUGf-Prws_",
        "outputId": "dfeecbb1-b90e-442a-aa10-cc10b8f731ed"
      },
      "source": [
        "gold_data.head()"
      ],
      "execution_count": 33,
      "outputs": [
        {
          "output_type": "execute_result",
          "data": {
            "text/html": [
              "<div>\n",
              "<style scoped>\n",
              "    .dataframe tbody tr th:only-of-type {\n",
              "        vertical-align: middle;\n",
              "    }\n",
              "\n",
              "    .dataframe tbody tr th {\n",
              "        vertical-align: top;\n",
              "    }\n",
              "\n",
              "    .dataframe thead th {\n",
              "        text-align: right;\n",
              "    }\n",
              "</style>\n",
              "<table border=\"1\" class=\"dataframe\">\n",
              "  <thead>\n",
              "    <tr style=\"text-align: right;\">\n",
              "      <th></th>\n",
              "      <th>Date</th>\n",
              "      <th>SPX</th>\n",
              "      <th>GLD</th>\n",
              "      <th>USO</th>\n",
              "      <th>SLV</th>\n",
              "      <th>EUR/USD</th>\n",
              "    </tr>\n",
              "  </thead>\n",
              "  <tbody>\n",
              "    <tr>\n",
              "      <th>0</th>\n",
              "      <td>1/2/2008</td>\n",
              "      <td>1447.160034</td>\n",
              "      <td>84.860001</td>\n",
              "      <td>78.470001</td>\n",
              "      <td>15.180</td>\n",
              "      <td>1.471692</td>\n",
              "    </tr>\n",
              "    <tr>\n",
              "      <th>1</th>\n",
              "      <td>1/3/2008</td>\n",
              "      <td>1447.160034</td>\n",
              "      <td>85.570000</td>\n",
              "      <td>78.370003</td>\n",
              "      <td>15.285</td>\n",
              "      <td>1.474491</td>\n",
              "    </tr>\n",
              "    <tr>\n",
              "      <th>2</th>\n",
              "      <td>1/4/2008</td>\n",
              "      <td>1411.630005</td>\n",
              "      <td>85.129997</td>\n",
              "      <td>77.309998</td>\n",
              "      <td>15.167</td>\n",
              "      <td>1.475492</td>\n",
              "    </tr>\n",
              "    <tr>\n",
              "      <th>3</th>\n",
              "      <td>1/7/2008</td>\n",
              "      <td>1416.180054</td>\n",
              "      <td>84.769997</td>\n",
              "      <td>75.500000</td>\n",
              "      <td>15.053</td>\n",
              "      <td>1.468299</td>\n",
              "    </tr>\n",
              "    <tr>\n",
              "      <th>4</th>\n",
              "      <td>1/8/2008</td>\n",
              "      <td>1390.189941</td>\n",
              "      <td>86.779999</td>\n",
              "      <td>76.059998</td>\n",
              "      <td>15.590</td>\n",
              "      <td>1.557099</td>\n",
              "    </tr>\n",
              "  </tbody>\n",
              "</table>\n",
              "</div>"
            ],
            "text/plain": [
              "       Date          SPX        GLD        USO     SLV   EUR/USD\n",
              "0  1/2/2008  1447.160034  84.860001  78.470001  15.180  1.471692\n",
              "1  1/3/2008  1447.160034  85.570000  78.370003  15.285  1.474491\n",
              "2  1/4/2008  1411.630005  85.129997  77.309998  15.167  1.475492\n",
              "3  1/7/2008  1416.180054  84.769997  75.500000  15.053  1.468299\n",
              "4  1/8/2008  1390.189941  86.779999  76.059998  15.590  1.557099"
            ]
          },
          "metadata": {},
          "execution_count": 33
        }
      ]
    },
    {
      "cell_type": "code",
      "metadata": {
        "id": "nv6XZm6Jr1Ea"
      },
      "source": [
        "gold_data['Next_GLD'] = gold_data['GLD'].shift(-1)"
      ],
      "execution_count": 34,
      "outputs": []
    },
    {
      "cell_type": "markdown",
      "metadata": {
        "id": "csZP7OQU23oN"
      },
      "source": [
        "Let's see if the next day gold price change can be predicted with the change in gold price and other asset today."
      ]
    },
    {
      "cell_type": "code",
      "metadata": {
        "id": "x-Bu5rds103M"
      },
      "source": [
        "gold_data = gold_data.drop('Date', axis =1).pct_change()"
      ],
      "execution_count": 37,
      "outputs": []
    },
    {
      "cell_type": "code",
      "metadata": {
        "colab": {
          "base_uri": "https://localhost:8080/",
          "height": 203
        },
        "id": "zV8BFV-qsxPm",
        "outputId": "4f3be684-77d0-4bf7-bc28-6b996dbad959"
      },
      "source": [
        "gold_data.head()"
      ],
      "execution_count": 38,
      "outputs": [
        {
          "output_type": "execute_result",
          "data": {
            "text/html": [
              "<div>\n",
              "<style scoped>\n",
              "    .dataframe tbody tr th:only-of-type {\n",
              "        vertical-align: middle;\n",
              "    }\n",
              "\n",
              "    .dataframe tbody tr th {\n",
              "        vertical-align: top;\n",
              "    }\n",
              "\n",
              "    .dataframe thead th {\n",
              "        text-align: right;\n",
              "    }\n",
              "</style>\n",
              "<table border=\"1\" class=\"dataframe\">\n",
              "  <thead>\n",
              "    <tr style=\"text-align: right;\">\n",
              "      <th></th>\n",
              "      <th>SPX</th>\n",
              "      <th>GLD</th>\n",
              "      <th>USO</th>\n",
              "      <th>SLV</th>\n",
              "      <th>EUR/USD</th>\n",
              "      <th>Next_GLD</th>\n",
              "    </tr>\n",
              "  </thead>\n",
              "  <tbody>\n",
              "    <tr>\n",
              "      <th>0</th>\n",
              "      <td>NaN</td>\n",
              "      <td>NaN</td>\n",
              "      <td>NaN</td>\n",
              "      <td>NaN</td>\n",
              "      <td>NaN</td>\n",
              "      <td>NaN</td>\n",
              "    </tr>\n",
              "    <tr>\n",
              "      <th>1</th>\n",
              "      <td>0.000000</td>\n",
              "      <td>0.008367</td>\n",
              "      <td>-0.001274</td>\n",
              "      <td>0.006917</td>\n",
              "      <td>0.001902</td>\n",
              "      <td>-0.005142</td>\n",
              "    </tr>\n",
              "    <tr>\n",
              "      <th>2</th>\n",
              "      <td>-0.024552</td>\n",
              "      <td>-0.005142</td>\n",
              "      <td>-0.013526</td>\n",
              "      <td>-0.007720</td>\n",
              "      <td>0.000679</td>\n",
              "      <td>-0.004229</td>\n",
              "    </tr>\n",
              "    <tr>\n",
              "      <th>3</th>\n",
              "      <td>0.003223</td>\n",
              "      <td>-0.004229</td>\n",
              "      <td>-0.023412</td>\n",
              "      <td>-0.007516</td>\n",
              "      <td>-0.004875</td>\n",
              "      <td>0.023711</td>\n",
              "    </tr>\n",
              "    <tr>\n",
              "      <th>4</th>\n",
              "      <td>-0.018352</td>\n",
              "      <td>0.023711</td>\n",
              "      <td>0.007417</td>\n",
              "      <td>0.035674</td>\n",
              "      <td>0.060478</td>\n",
              "      <td>-0.002650</td>\n",
              "    </tr>\n",
              "  </tbody>\n",
              "</table>\n",
              "</div>"
            ],
            "text/plain": [
              "        SPX       GLD       USO       SLV   EUR/USD  Next_GLD\n",
              "0       NaN       NaN       NaN       NaN       NaN       NaN\n",
              "1  0.000000  0.008367 -0.001274  0.006917  0.001902 -0.005142\n",
              "2 -0.024552 -0.005142 -0.013526 -0.007720  0.000679 -0.004229\n",
              "3  0.003223 -0.004229 -0.023412 -0.007516 -0.004875  0.023711\n",
              "4 -0.018352  0.023711  0.007417  0.035674  0.060478 -0.002650"
            ]
          },
          "metadata": {},
          "execution_count": 38
        }
      ]
    },
    {
      "cell_type": "code",
      "metadata": {
        "colab": {
          "base_uri": "https://localhost:8080/",
          "height": 203
        },
        "id": "TvfLC7Mcs9KO",
        "outputId": "3b8bf2ee-6bdb-4897-9b93-927e33cbec7a"
      },
      "source": [
        "gold_data.tail()"
      ],
      "execution_count": 39,
      "outputs": [
        {
          "output_type": "execute_result",
          "data": {
            "text/html": [
              "<div>\n",
              "<style scoped>\n",
              "    .dataframe tbody tr th:only-of-type {\n",
              "        vertical-align: middle;\n",
              "    }\n",
              "\n",
              "    .dataframe tbody tr th {\n",
              "        vertical-align: top;\n",
              "    }\n",
              "\n",
              "    .dataframe thead th {\n",
              "        text-align: right;\n",
              "    }\n",
              "</style>\n",
              "<table border=\"1\" class=\"dataframe\">\n",
              "  <thead>\n",
              "    <tr style=\"text-align: right;\">\n",
              "      <th></th>\n",
              "      <th>SPX</th>\n",
              "      <th>GLD</th>\n",
              "      <th>USO</th>\n",
              "      <th>SLV</th>\n",
              "      <th>EUR/USD</th>\n",
              "      <th>Next_GLD</th>\n",
              "    </tr>\n",
              "  </thead>\n",
              "  <tbody>\n",
              "    <tr>\n",
              "      <th>2285</th>\n",
              "      <td>-0.000266</td>\n",
              "      <td>0.000161</td>\n",
              "      <td>-0.002837</td>\n",
              "      <td>-0.000644</td>\n",
              "      <td>-0.005518</td>\n",
              "      <td>-0.002087</td>\n",
              "    </tr>\n",
              "    <tr>\n",
              "      <th>2286</th>\n",
              "      <td>0.009682</td>\n",
              "      <td>-0.002087</td>\n",
              "      <td>0.022048</td>\n",
              "      <td>0.001289</td>\n",
              "      <td>-0.001742</td>\n",
              "      <td>0.006837</td>\n",
              "    </tr>\n",
              "    <tr>\n",
              "      <th>2287</th>\n",
              "      <td>0.009371</td>\n",
              "      <td>0.006837</td>\n",
              "      <td>0.002784</td>\n",
              "      <td>0.013522</td>\n",
              "      <td>0.005935</td>\n",
              "      <td>-0.005512</td>\n",
              "    </tr>\n",
              "    <tr>\n",
              "      <th>2288</th>\n",
              "      <td>0.002593</td>\n",
              "      <td>-0.005512</td>\n",
              "      <td>-0.002082</td>\n",
              "      <td>-0.011436</td>\n",
              "      <td>0.001145</td>\n",
              "      <td>-0.015633</td>\n",
              "    </tr>\n",
              "    <tr>\n",
              "      <th>2289</th>\n",
              "      <td>-0.001593</td>\n",
              "      <td>-0.015633</td>\n",
              "      <td>0.001794</td>\n",
              "      <td>-0.006799</td>\n",
              "      <td>-0.009291</td>\n",
              "      <td>0.000000</td>\n",
              "    </tr>\n",
              "  </tbody>\n",
              "</table>\n",
              "</div>"
            ],
            "text/plain": [
              "           SPX       GLD       USO       SLV   EUR/USD  Next_GLD\n",
              "2285 -0.000266  0.000161 -0.002837 -0.000644 -0.005518 -0.002087\n",
              "2286  0.009682 -0.002087  0.022048  0.001289 -0.001742  0.006837\n",
              "2287  0.009371  0.006837  0.002784  0.013522  0.005935 -0.005512\n",
              "2288  0.002593 -0.005512 -0.002082 -0.011436  0.001145 -0.015633\n",
              "2289 -0.001593 -0.015633  0.001794 -0.006799 -0.009291  0.000000"
            ]
          },
          "metadata": {},
          "execution_count": 39
        }
      ]
    },
    {
      "cell_type": "code",
      "metadata": {
        "id": "nUiIxXQ4tAv7"
      },
      "source": [
        "gold_data.dropna(axis = 0, inplace=True)"
      ],
      "execution_count": 40,
      "outputs": []
    },
    {
      "cell_type": "code",
      "metadata": {
        "colab": {
          "base_uri": "https://localhost:8080/",
          "height": 203
        },
        "id": "oZ3pNr1rtMJb",
        "outputId": "917c60ea-eae3-46a1-bf06-7c3ea605c88b"
      },
      "source": [
        "gold_data.head()"
      ],
      "execution_count": 41,
      "outputs": [
        {
          "output_type": "execute_result",
          "data": {
            "text/html": [
              "<div>\n",
              "<style scoped>\n",
              "    .dataframe tbody tr th:only-of-type {\n",
              "        vertical-align: middle;\n",
              "    }\n",
              "\n",
              "    .dataframe tbody tr th {\n",
              "        vertical-align: top;\n",
              "    }\n",
              "\n",
              "    .dataframe thead th {\n",
              "        text-align: right;\n",
              "    }\n",
              "</style>\n",
              "<table border=\"1\" class=\"dataframe\">\n",
              "  <thead>\n",
              "    <tr style=\"text-align: right;\">\n",
              "      <th></th>\n",
              "      <th>SPX</th>\n",
              "      <th>GLD</th>\n",
              "      <th>USO</th>\n",
              "      <th>SLV</th>\n",
              "      <th>EUR/USD</th>\n",
              "      <th>Next_GLD</th>\n",
              "    </tr>\n",
              "  </thead>\n",
              "  <tbody>\n",
              "    <tr>\n",
              "      <th>1</th>\n",
              "      <td>0.000000</td>\n",
              "      <td>0.008367</td>\n",
              "      <td>-0.001274</td>\n",
              "      <td>0.006917</td>\n",
              "      <td>0.001902</td>\n",
              "      <td>-0.005142</td>\n",
              "    </tr>\n",
              "    <tr>\n",
              "      <th>2</th>\n",
              "      <td>-0.024552</td>\n",
              "      <td>-0.005142</td>\n",
              "      <td>-0.013526</td>\n",
              "      <td>-0.007720</td>\n",
              "      <td>0.000679</td>\n",
              "      <td>-0.004229</td>\n",
              "    </tr>\n",
              "    <tr>\n",
              "      <th>3</th>\n",
              "      <td>0.003223</td>\n",
              "      <td>-0.004229</td>\n",
              "      <td>-0.023412</td>\n",
              "      <td>-0.007516</td>\n",
              "      <td>-0.004875</td>\n",
              "      <td>0.023711</td>\n",
              "    </tr>\n",
              "    <tr>\n",
              "      <th>4</th>\n",
              "      <td>-0.018352</td>\n",
              "      <td>0.023711</td>\n",
              "      <td>0.007417</td>\n",
              "      <td>0.035674</td>\n",
              "      <td>0.060478</td>\n",
              "      <td>-0.002650</td>\n",
              "    </tr>\n",
              "    <tr>\n",
              "      <th>5</th>\n",
              "      <td>0.013624</td>\n",
              "      <td>-0.002650</td>\n",
              "      <td>-0.010649</td>\n",
              "      <td>-0.004490</td>\n",
              "      <td>-0.058245</td>\n",
              "      <td>0.019642</td>\n",
              "    </tr>\n",
              "  </tbody>\n",
              "</table>\n",
              "</div>"
            ],
            "text/plain": [
              "        SPX       GLD       USO       SLV   EUR/USD  Next_GLD\n",
              "1  0.000000  0.008367 -0.001274  0.006917  0.001902 -0.005142\n",
              "2 -0.024552 -0.005142 -0.013526 -0.007720  0.000679 -0.004229\n",
              "3  0.003223 -0.004229 -0.023412 -0.007516 -0.004875  0.023711\n",
              "4 -0.018352  0.023711  0.007417  0.035674  0.060478 -0.002650\n",
              "5  0.013624 -0.002650 -0.010649 -0.004490 -0.058245  0.019642"
            ]
          },
          "metadata": {},
          "execution_count": 41
        }
      ]
    },
    {
      "cell_type": "code",
      "metadata": {
        "colab": {
          "base_uri": "https://localhost:8080/"
        },
        "id": "gHFDJtVjtQKT",
        "outputId": "9c9135ab-ce7c-411c-b066-744706755ee6"
      },
      "source": [
        "gold_data.shape"
      ],
      "execution_count": 42,
      "outputs": [
        {
          "output_type": "execute_result",
          "data": {
            "text/plain": [
              "(2289, 6)"
            ]
          },
          "metadata": {},
          "execution_count": 42
        }
      ]
    },
    {
      "cell_type": "code",
      "metadata": {
        "colab": {
          "base_uri": "https://localhost:8080/"
        },
        "id": "GUCZxZ6ZtmjD",
        "outputId": "2494916f-edee-4906-fa25-02c0dac433e5"
      },
      "source": [
        "#getting some basic information about the data\n",
        "gold_data.info()"
      ],
      "execution_count": 43,
      "outputs": [
        {
          "output_type": "stream",
          "name": "stdout",
          "text": [
            "<class 'pandas.core.frame.DataFrame'>\n",
            "Int64Index: 2289 entries, 1 to 2289\n",
            "Data columns (total 6 columns):\n",
            " #   Column    Non-Null Count  Dtype  \n",
            "---  ------    --------------  -----  \n",
            " 0   SPX       2289 non-null   float64\n",
            " 1   GLD       2289 non-null   float64\n",
            " 2   USO       2289 non-null   float64\n",
            " 3   SLV       2289 non-null   float64\n",
            " 4   EUR/USD   2289 non-null   float64\n",
            " 5   Next_GLD  2289 non-null   float64\n",
            "dtypes: float64(6)\n",
            "memory usage: 125.2 KB\n"
          ]
        }
      ]
    },
    {
      "cell_type": "code",
      "metadata": {
        "colab": {
          "base_uri": "https://localhost:8080/",
          "height": 295
        },
        "id": "7KE60Rdltr8D",
        "outputId": "b2e3e08d-92a0-4606-d362-5ce62c8d361d"
      },
      "source": [
        "gold_data.describe()"
      ],
      "execution_count": 44,
      "outputs": [
        {
          "output_type": "execute_result",
          "data": {
            "text/html": [
              "<div>\n",
              "<style scoped>\n",
              "    .dataframe tbody tr th:only-of-type {\n",
              "        vertical-align: middle;\n",
              "    }\n",
              "\n",
              "    .dataframe tbody tr th {\n",
              "        vertical-align: top;\n",
              "    }\n",
              "\n",
              "    .dataframe thead th {\n",
              "        text-align: right;\n",
              "    }\n",
              "</style>\n",
              "<table border=\"1\" class=\"dataframe\">\n",
              "  <thead>\n",
              "    <tr style=\"text-align: right;\">\n",
              "      <th></th>\n",
              "      <th>SPX</th>\n",
              "      <th>GLD</th>\n",
              "      <th>USO</th>\n",
              "      <th>SLV</th>\n",
              "      <th>EUR/USD</th>\n",
              "      <th>Next_GLD</th>\n",
              "    </tr>\n",
              "  </thead>\n",
              "  <tbody>\n",
              "    <tr>\n",
              "      <th>count</th>\n",
              "      <td>2289.000000</td>\n",
              "      <td>2289.000000</td>\n",
              "      <td>2289.000000</td>\n",
              "      <td>2289.000000</td>\n",
              "      <td>2289.000000</td>\n",
              "      <td>2289.000000</td>\n",
              "    </tr>\n",
              "    <tr>\n",
              "      <th>mean</th>\n",
              "      <td>0.000369</td>\n",
              "      <td>0.000244</td>\n",
              "      <td>-0.000460</td>\n",
              "      <td>0.000252</td>\n",
              "      <td>-0.000053</td>\n",
              "      <td>0.000241</td>\n",
              "    </tr>\n",
              "    <tr>\n",
              "      <th>std</th>\n",
              "      <td>0.013582</td>\n",
              "      <td>0.012931</td>\n",
              "      <td>0.023667</td>\n",
              "      <td>0.021975</td>\n",
              "      <td>0.009321</td>\n",
              "      <td>0.012929</td>\n",
              "    </tr>\n",
              "    <tr>\n",
              "      <th>min</th>\n",
              "      <td>-0.090350</td>\n",
              "      <td>-0.130685</td>\n",
              "      <td>-0.110739</td>\n",
              "      <td>-0.172659</td>\n",
              "      <td>-0.133526</td>\n",
              "      <td>-0.130685</td>\n",
              "    </tr>\n",
              "    <tr>\n",
              "      <th>25%</th>\n",
              "      <td>-0.004141</td>\n",
              "      <td>-0.005693</td>\n",
              "      <td>-0.012702</td>\n",
              "      <td>-0.009227</td>\n",
              "      <td>-0.003920</td>\n",
              "      <td>-0.005693</td>\n",
              "    </tr>\n",
              "    <tr>\n",
              "      <th>50%</th>\n",
              "      <td>0.000757</td>\n",
              "      <td>0.000494</td>\n",
              "      <td>0.000298</td>\n",
              "      <td>0.000634</td>\n",
              "      <td>-0.000071</td>\n",
              "      <td>0.000482</td>\n",
              "    </tr>\n",
              "    <tr>\n",
              "      <th>75%</th>\n",
              "      <td>0.006030</td>\n",
              "      <td>0.006418</td>\n",
              "      <td>0.012062</td>\n",
              "      <td>0.010914</td>\n",
              "      <td>0.003875</td>\n",
              "      <td>0.006390</td>\n",
              "    </tr>\n",
              "    <tr>\n",
              "      <th>max</th>\n",
              "      <td>0.107890</td>\n",
              "      <td>0.112905</td>\n",
              "      <td>0.139068</td>\n",
              "      <td>0.144231</td>\n",
              "      <td>0.173080</td>\n",
              "      <td>0.112905</td>\n",
              "    </tr>\n",
              "  </tbody>\n",
              "</table>\n",
              "</div>"
            ],
            "text/plain": [
              "               SPX          GLD  ...      EUR/USD     Next_GLD\n",
              "count  2289.000000  2289.000000  ...  2289.000000  2289.000000\n",
              "mean      0.000369     0.000244  ...    -0.000053     0.000241\n",
              "std       0.013582     0.012931  ...     0.009321     0.012929\n",
              "min      -0.090350    -0.130685  ...    -0.133526    -0.130685\n",
              "25%      -0.004141    -0.005693  ...    -0.003920    -0.005693\n",
              "50%       0.000757     0.000494  ...    -0.000071     0.000482\n",
              "75%       0.006030     0.006418  ...     0.003875     0.006390\n",
              "max       0.107890     0.112905  ...     0.173080     0.112905\n",
              "\n",
              "[8 rows x 6 columns]"
            ]
          },
          "metadata": {},
          "execution_count": 44
        }
      ]
    },
    {
      "cell_type": "code",
      "metadata": {
        "id": "slbqn6h6t89p"
      },
      "source": [
        "correlation = gold_data.corr()"
      ],
      "execution_count": 45,
      "outputs": []
    },
    {
      "cell_type": "code",
      "metadata": {
        "colab": {
          "base_uri": "https://localhost:8080/",
          "height": 488
        },
        "id": "s6lp-r1euVlJ",
        "outputId": "42ad5d6a-3e6e-441b-e809-ec8ed46c32da"
      },
      "source": [
        "#a heatmap of the correlation\n",
        "plt.figure(figsize=(8,8))\n",
        "sns.heatmap(correlation, cbar = True, square=True, fmt='.1f', annot = True, annot_kws = {'size': 8}, cmap='Blues' )"
      ],
      "execution_count": 46,
      "outputs": [
        {
          "output_type": "execute_result",
          "data": {
            "text/plain": [
              "<matplotlib.axes._subplots.AxesSubplot at 0x7f9a9203fc50>"
            ]
          },
          "metadata": {},
          "execution_count": 46
        },
        {
          "output_type": "display_data",
          "data": {
            "image/png": "[encoded data removed]",
            "text/plain": [
              "<Figure size 576x576 with 2 Axes>"
            ]
          },
          "metadata": {
            "needs_background": "light"
          }
        }
      ]
    },
    {
      "cell_type": "code",
      "metadata": {
        "colab": {
          "base_uri": "https://localhost:8080/"
        },
        "id": "ydgKzCrLuzvB",
        "outputId": "24306b8c-1c36-4879-935e-a9f65bcea1ce"
      },
      "source": [
        "# correlation values\n",
        "print(correlation['Next_GLD'])"
      ],
      "execution_count": 47,
      "outputs": [
        {
          "output_type": "stream",
          "name": "stdout",
          "text": [
            "SPX         0.055920\n",
            "GLD        -0.033389\n",
            "USO        -0.021412\n",
            "SLV        -0.052020\n",
            "EUR/USD     0.059494\n",
            "Next_GLD    1.000000\n",
            "Name: Next_GLD, dtype: float64\n"
          ]
        }
      ]
    },
    {
      "cell_type": "code",
      "metadata": {
        "colab": {
          "base_uri": "https://localhost:8080/",
          "height": 353
        },
        "id": "FxeItsFxvZIQ",
        "outputId": "343c2bde-9b57-4ca1-98f9-03208500b1cd"
      },
      "source": [
        "#Distribution of the gold price change\n",
        "sns.distplot(gold_data['Next_GLD'], color='green')"
      ],
      "execution_count": 48,
      "outputs": [
        {
          "output_type": "stream",
          "name": "stderr",
          "text": [
            "/usr/local/lib/python3.7/dist-packages/seaborn/distributions.py:2557: FutureWarning: `distplot` is a deprecated function and will be removed in a future version. Please adapt your code to use either `displot` (a figure-level function with similar flexibility) or `histplot` (an axes-level function for histograms).\n",
            "  warnings.warn(msg, FutureWarning)\n"
          ]
        },
        {
          "output_type": "execute_result",
          "data": {
            "text/plain": [
              "<matplotlib.axes._subplots.AxesSubplot at 0x7f9a91e2eb10>"
            ]
          },
          "metadata": {},
          "execution_count": 48
        },
        {
          "output_type": "display_data",
          "data": {
            "image/png": "[encoded data removed]",
            "text/plain": [
              "<Figure size 432x288 with 1 Axes>"
            ]
          },
          "metadata": {
            "needs_background": "light"
          }
        }
      ]
    },
    {
      "cell_type": "markdown",
      "metadata": {
        "id": "zlEA_lYXv6M2"
      },
      "source": [
        "Splitting the features and Target"
      ]
    },
    {
      "cell_type": "code",
      "metadata": {
        "id": "ykBO5sMYv57t"
      },
      "source": [
        "X = gold_data.drop(['Next_GLD'], axis = 1)\n",
        "Y = gold_data['Next_GLD']"
      ],
      "execution_count": 49,
      "outputs": []
    },
    {
      "cell_type": "code",
      "metadata": {
        "colab": {
          "base_uri": "https://localhost:8080/"
        },
        "id": "N5dwyXtl6ZTr",
        "outputId": "52f54eb3-66b1-4a7f-bf8d-34b8661bc4e1"
      },
      "source": [
        "print(X)\n",
        "print(Y)"
      ],
      "execution_count": 64,
      "outputs": [
        {
          "output_type": "stream",
          "name": "stdout",
          "text": [
            "           SPX       GLD       USO       SLV   EUR/USD\n",
            "1     0.000000  0.008367 -0.001274  0.006917  0.001902\n",
            "2    -0.024552 -0.005142 -0.013526 -0.007720  0.000679\n",
            "3     0.003223 -0.004229 -0.023412 -0.007516 -0.004875\n",
            "4    -0.018352  0.023711  0.007417  0.035674  0.060478\n",
            "5     0.013624 -0.002650 -0.010649 -0.004490 -0.058245\n",
            "...        ...       ...       ...       ...       ...\n",
            "2285 -0.000266  0.000161 -0.002837 -0.000644 -0.005518\n",
            "2286  0.009682 -0.002087  0.022048  0.001289 -0.001742\n",
            "2287  0.009371  0.006837  0.002784  0.013522  0.005935\n",
            "2288  0.002593 -0.005512 -0.002082 -0.011436  0.001145\n",
            "2289 -0.001593 -0.015633  0.001794 -0.006799 -0.009291\n",
            "\n",
            "[2289 rows x 5 columns]\n",
            "1      -0.005142\n",
            "2      -0.004229\n",
            "3       0.023711\n",
            "4      -0.002650\n",
            "5       0.019642\n",
            "          ...   \n",
            "2285   -0.002087\n",
            "2286    0.006837\n",
            "2287   -0.005512\n",
            "2288   -0.015633\n",
            "2289    0.000000\n",
            "Name: Next_GLD, Length: 2289, dtype: float64\n"
          ]
        }
      ]
    },
    {
      "cell_type": "markdown",
      "metadata": {
        "id": "XBZOtwnI4FS_"
      },
      "source": [
        "Shuffle is set to False. So the last 20% of the data will be used to evaluate the model."
      ]
    },
    {
      "cell_type": "code",
      "metadata": {
        "id": "ppN2jHeDvsNt"
      },
      "source": [
        "X_train, X_test, Y_train, Y_test = train_test_split(X, Y, test_size=0.1, , shuffle=False)"
      ],
      "execution_count": 73,
      "outputs": []
    },
    {
      "cell_type": "code",
      "metadata": {
        "colab": {
          "base_uri": "https://localhost:8080/"
        },
        "id": "MKhigbItxGa3",
        "outputId": "9a77801a-5e54-4bcb-b073-4dafbaa2e7a4"
      },
      "source": [
        "print(X.shape, X_test.shape, X_train.shape)"
      ],
      "execution_count": 74,
      "outputs": [
        {
          "output_type": "stream",
          "name": "stdout",
          "text": [
            "(2289, 5) (229, 5) (2060, 5)\n"
          ]
        }
      ]
    },
    {
      "cell_type": "code",
      "metadata": {
        "colab": {
          "base_uri": "https://localhost:8080/",
          "height": 203
        },
        "id": "IOLJqdV4xLx6",
        "outputId": "4d442212-edf7-4ac5-d275-c12cf4d50e3a"
      },
      "source": [
        "X_train.tail()"
      ],
      "execution_count": 75,
      "outputs": [
        {
          "output_type": "execute_result",
          "data": {
            "text/html": [
              "<div>\n",
              "<style scoped>\n",
              "    .dataframe tbody tr th:only-of-type {\n",
              "        vertical-align: middle;\n",
              "    }\n",
              "\n",
              "    .dataframe tbody tr th {\n",
              "        vertical-align: top;\n",
              "    }\n",
              "\n",
              "    .dataframe thead th {\n",
              "        text-align: right;\n",
              "    }\n",
              "</style>\n",
              "<table border=\"1\" class=\"dataframe\">\n",
              "  <thead>\n",
              "    <tr style=\"text-align: right;\">\n",
              "      <th></th>\n",
              "      <th>SPX</th>\n",
              "      <th>GLD</th>\n",
              "      <th>USO</th>\n",
              "      <th>SLV</th>\n",
              "      <th>EUR/USD</th>\n",
              "    </tr>\n",
              "  </thead>\n",
              "  <tbody>\n",
              "    <tr>\n",
              "      <th>2056</th>\n",
              "      <td>-0.001716</td>\n",
              "      <td>-0.008875</td>\n",
              "      <td>-0.038043</td>\n",
              "      <td>-0.009227</td>\n",
              "      <td>-0.001275</td>\n",
              "    </tr>\n",
              "    <tr>\n",
              "      <th>2057</th>\n",
              "      <td>0.007557</td>\n",
              "      <td>0.001889</td>\n",
              "      <td>-0.007533</td>\n",
              "      <td>-0.006985</td>\n",
              "      <td>-0.000010</td>\n",
              "    </tr>\n",
              "    <tr>\n",
              "      <th>2058</th>\n",
              "      <td>0.007772</td>\n",
              "      <td>-0.003936</td>\n",
              "      <td>-0.027514</td>\n",
              "      <td>-0.004689</td>\n",
              "      <td>0.013994</td>\n",
              "    </tr>\n",
              "    <tr>\n",
              "      <th>2059</th>\n",
              "      <td>0.006091</td>\n",
              "      <td>-0.010125</td>\n",
              "      <td>0.010732</td>\n",
              "      <td>-0.017668</td>\n",
              "      <td>0.005836</td>\n",
              "    </tr>\n",
              "    <tr>\n",
              "      <th>2060</th>\n",
              "      <td>-0.000486</td>\n",
              "      <td>0.004906</td>\n",
              "      <td>-0.009653</td>\n",
              "      <td>-0.006595</td>\n",
              "      <td>-0.001768</td>\n",
              "    </tr>\n",
              "  </tbody>\n",
              "</table>\n",
              "</div>"
            ],
            "text/plain": [
              "           SPX       GLD       USO       SLV   EUR/USD\n",
              "2056 -0.001716 -0.008875 -0.038043 -0.009227 -0.001275\n",
              "2057  0.007557  0.001889 -0.007533 -0.006985 -0.000010\n",
              "2058  0.007772 -0.003936 -0.027514 -0.004689  0.013994\n",
              "2059  0.006091 -0.010125  0.010732 -0.017668  0.005836\n",
              "2060 -0.000486  0.004906 -0.009653 -0.006595 -0.001768"
            ]
          },
          "metadata": {},
          "execution_count": 75
        }
      ]
    },
    {
      "cell_type": "code",
      "metadata": {
        "colab": {
          "base_uri": "https://localhost:8080/",
          "height": 203
        },
        "id": "mNCK3NhmxlXw",
        "outputId": "7cc0e9e5-d393-40d5-82f4-3dd456534487"
      },
      "source": [
        "X_test.tail()"
      ],
      "execution_count": 76,
      "outputs": [
        {
          "output_type": "execute_result",
          "data": {
            "text/html": [
              "<div>\n",
              "<style scoped>\n",
              "    .dataframe tbody tr th:only-of-type {\n",
              "        vertical-align: middle;\n",
              "    }\n",
              "\n",
              "    .dataframe tbody tr th {\n",
              "        vertical-align: top;\n",
              "    }\n",
              "\n",
              "    .dataframe thead th {\n",
              "        text-align: right;\n",
              "    }\n",
              "</style>\n",
              "<table border=\"1\" class=\"dataframe\">\n",
              "  <thead>\n",
              "    <tr style=\"text-align: right;\">\n",
              "      <th></th>\n",
              "      <th>SPX</th>\n",
              "      <th>GLD</th>\n",
              "      <th>USO</th>\n",
              "      <th>SLV</th>\n",
              "      <th>EUR/USD</th>\n",
              "    </tr>\n",
              "  </thead>\n",
              "  <tbody>\n",
              "    <tr>\n",
              "      <th>2285</th>\n",
              "      <td>-0.000266</td>\n",
              "      <td>0.000161</td>\n",
              "      <td>-0.002837</td>\n",
              "      <td>-0.000644</td>\n",
              "      <td>-0.005518</td>\n",
              "    </tr>\n",
              "    <tr>\n",
              "      <th>2286</th>\n",
              "      <td>0.009682</td>\n",
              "      <td>-0.002087</td>\n",
              "      <td>0.022048</td>\n",
              "      <td>0.001289</td>\n",
              "      <td>-0.001742</td>\n",
              "    </tr>\n",
              "    <tr>\n",
              "      <th>2287</th>\n",
              "      <td>0.009371</td>\n",
              "      <td>0.006837</td>\n",
              "      <td>0.002784</td>\n",
              "      <td>0.013522</td>\n",
              "      <td>0.005935</td>\n",
              "    </tr>\n",
              "    <tr>\n",
              "      <th>2288</th>\n",
              "      <td>0.002593</td>\n",
              "      <td>-0.005512</td>\n",
              "      <td>-0.002082</td>\n",
              "      <td>-0.011436</td>\n",
              "      <td>0.001145</td>\n",
              "    </tr>\n",
              "    <tr>\n",
              "      <th>2289</th>\n",
              "      <td>-0.001593</td>\n",
              "      <td>-0.015633</td>\n",
              "      <td>0.001794</td>\n",
              "      <td>-0.006799</td>\n",
              "      <td>-0.009291</td>\n",
              "    </tr>\n",
              "  </tbody>\n",
              "</table>\n",
              "</div>"
            ],
            "text/plain": [
              "           SPX       GLD       USO       SLV   EUR/USD\n",
              "2285 -0.000266  0.000161 -0.002837 -0.000644 -0.005518\n",
              "2286  0.009682 -0.002087  0.022048  0.001289 -0.001742\n",
              "2287  0.009371  0.006837  0.002784  0.013522  0.005935\n",
              "2288  0.002593 -0.005512 -0.002082 -0.011436  0.001145\n",
              "2289 -0.001593 -0.015633  0.001794 -0.006799 -0.009291"
            ]
          },
          "metadata": {},
          "execution_count": 76
        }
      ]
    },
    {
      "cell_type": "markdown",
      "metadata": {
        "id": "gZPaL1AExtb3"
      },
      "source": [
        "Model Training\n",
        "\n",
        "Random Forest"
      ]
    },
    {
      "cell_type": "code",
      "metadata": {
        "id": "q3Y11M6mxo1Y"
      },
      "source": [
        "regressor = RandomForestRegressor(n_estimators=100)"
      ],
      "execution_count": 77,
      "outputs": []
    },
    {
      "cell_type": "code",
      "metadata": {
        "colab": {
          "base_uri": "https://localhost:8080/"
        },
        "id": "gzI23End4bjG",
        "outputId": "0f57366b-cf6c-45d5-d0fc-c8866a5098c8"
      },
      "source": [
        "regressor.fit(X_train, Y_train)"
      ],
      "execution_count": 78,
      "outputs": [
        {
          "output_type": "execute_result",
          "data": {
            "text/plain": [
              "RandomForestRegressor(bootstrap=True, ccp_alpha=0.0, criterion='mse',\n",
              "                      max_depth=None, max_features='auto', max_leaf_nodes=None,\n",
              "                      max_samples=None, min_impurity_decrease=0.0,\n",
              "                      min_impurity_split=None, min_samples_leaf=1,\n",
              "                      min_samples_split=2, min_weight_fraction_leaf=0.0,\n",
              "                      n_estimators=100, n_jobs=None, oob_score=False,\n",
              "                      random_state=None, verbose=0, warm_start=False)"
            ]
          },
          "metadata": {},
          "execution_count": 78
        }
      ]
    },
    {
      "cell_type": "markdown",
      "metadata": {
        "id": "kQJAurg-4q5U"
      },
      "source": [
        "Let's evaluate the model"
      ]
    },
    {
      "cell_type": "code",
      "metadata": {
        "id": "aIuZRGfG4nCm"
      },
      "source": [
        "X_train_prediction = regressor.predict(X_train)"
      ],
      "execution_count": 79,
      "outputs": []
    },
    {
      "cell_type": "code",
      "metadata": {
        "colab": {
          "base_uri": "https://localhost:8080/"
        },
        "id": "WnjwfMTn5Iic",
        "outputId": "caf4d837-e7e3-4b1a-d897-1a79e232d65b"
      },
      "source": [
        "print('Mean Absolute Error (MAE):', metrics.mean_absolute_error(Y_train, X_train_prediction))\n",
        "print('Mean Squared Error (MSE):', metrics.mean_squared_error(Y_train, X_train_prediction))\n",
        "print('Root Mean Squared Error (RMSE):', np.sqrt(metrics.mean_squared_error(Y_train, X_train_prediction)))\n",
        "print('r2 score:', metrics.r2_score (Y_train, X_train_prediction))"
      ],
      "execution_count": 80,
      "outputs": [
        {
          "output_type": "stream",
          "name": "stdout",
          "text": [
            "Mean Absolute Error (MAE): 0.0035887885185656152\n",
            "Mean Squared Error (MSE): 2.718728497566219e-05\n",
            "Root Mean Squared Error (RMSE): 0.005214142784357002\n",
            "r2 score: 0.8494014510959866\n"
          ]
        }
      ]
    },
    {
      "cell_type": "code",
      "metadata": {
        "id": "7czNqn9A5_qR"
      },
      "source": [
        "X_test_prediction = regressor.predict(X_test)"
      ],
      "execution_count": 81,
      "outputs": []
    },
    {
      "cell_type": "code",
      "metadata": {
        "colab": {
          "base_uri": "https://localhost:8080/"
        },
        "id": "hV3zH62X6E6i",
        "outputId": "3836dc0b-041f-4d85-a566-55735628942b"
      },
      "source": [
        "print('Mean Absolute Error (MAE):', metrics.mean_absolute_error(Y_test, X_test_prediction))\n",
        "print('Mean Squared Error (MSE):', metrics.mean_squared_error(Y_test, X_test_prediction))\n",
        "print('Root Mean Squared Error (RMSE):', np.sqrt(metrics.mean_squared_error(Y_test, X_test_prediction)))\n",
        "print('r2 score:', metrics.r2_score (Y_test, X_test_prediction))"
      ],
      "execution_count": 82,
      "outputs": [
        {
          "output_type": "stream",
          "name": "stdout",
          "text": [
            "Mean Absolute Error (MAE): 0.005618219738848784\n",
            "Mean Squared Error (MSE): 5.204118853647096e-05\n",
            "Root Mean Squared Error (RMSE): 0.007213957896776981\n",
            "r2 score: -0.12492388035939639\n"
          ]
        }
      ]
    },
    {
      "cell_type": "markdown",
      "metadata": {
        "id": "4NN_I97T-Zz0"
      },
      "source": [
        "R2  compares the fit of the chosen model with that of a horizontal straight line (the null hypothesis). If the chosen model fits worse than a horizontal line, then R2 is negative. Note that R2 is not always the square of anything, so it can have a negative value without violating any rules of math. R2 is negative only when the chosen model does not follow the trend of the data, so fits worse than a horizontal line."
      ]
    },
    {
      "cell_type": "code",
      "metadata": {
        "colab": {
          "base_uri": "https://localhost:8080/",
          "height": 353
        },
        "id": "XB9XTlKM-Y8C",
        "outputId": "a8c7e90a-48e0-46d1-f784-6813fb169703"
      },
      "source": [
        "sns.scatterplot(Y_test, X_test_prediction)"
      ],
      "execution_count": 83,
      "outputs": [
        {
          "output_type": "stream",
          "name": "stderr",
          "text": [
            "/usr/local/lib/python3.7/dist-packages/seaborn/_decorators.py:43: FutureWarning: Pass the following variables as keyword args: x, y. From version 0.12, the only valid positional argument will be `data`, and passing other arguments without an explicit keyword will result in an error or misinterpretation.\n",
            "  FutureWarning\n"
          ]
        },
        {
          "output_type": "execute_result",
          "data": {
            "text/plain": [
              "<matplotlib.axes._subplots.AxesSubplot at 0x7f9a91ea2ed0>"
            ]
          },
          "metadata": {},
          "execution_count": 83
        },
        {
          "output_type": "display_data",
          "data": {
            "image/png": "[encoded data removed]",
            "text/plain": [
              "<Figure size 432x288 with 1 Axes>"
            ]
          },
          "metadata": {
            "needs_background": "light"
          }
        }
      ]
    },
    {
      "cell_type": "markdown",
      "metadata": {
        "id": "yv5XLCKGDQbU"
      },
      "source": [
        "Let's see if having a history of price changes as features helps with the prediction. Let's prepare the dataset first."
      ]
    },
    {
      "cell_type": "code",
      "metadata": {
        "colab": {
          "base_uri": "https://localhost:8080/",
          "height": 417
        },
        "id": "QpiwEPLVC0kH",
        "outputId": "dbf4a3d7-7d3d-41bc-cc80-82ae98b91688"
      },
      "source": [
        "X"
      ],
      "execution_count": 88,
      "outputs": [
        {
          "output_type": "execute_result",
          "data": {
            "text/html": [
              "<div>\n",
              "<style scoped>\n",
              "    .dataframe tbody tr th:only-of-type {\n",
              "        vertical-align: middle;\n",
              "    }\n",
              "\n",
              "    .dataframe tbody tr th {\n",
              "        vertical-align: top;\n",
              "    }\n",
              "\n",
              "    .dataframe thead th {\n",
              "        text-align: right;\n",
              "    }\n",
              "</style>\n",
              "<table border=\"1\" class=\"dataframe\">\n",
              "  <thead>\n",
              "    <tr style=\"text-align: right;\">\n",
              "      <th></th>\n",
              "      <th>SPX</th>\n",
              "      <th>GLD</th>\n",
              "      <th>USO</th>\n",
              "      <th>SLV</th>\n",
              "      <th>EUR/USD</th>\n",
              "    </tr>\n",
              "  </thead>\n",
              "  <tbody>\n",
              "    <tr>\n",
              "      <th>1</th>\n",
              "      <td>0.000000</td>\n",
              "      <td>0.008367</td>\n",
              "      <td>-0.001274</td>\n",
              "      <td>0.006917</td>\n",
              "      <td>0.001902</td>\n",
              "    </tr>\n",
              "    <tr>\n",
              "      <th>2</th>\n",
              "      <td>-0.024552</td>\n",
              "      <td>-0.005142</td>\n",
              "      <td>-0.013526</td>\n",
              "      <td>-0.007720</td>\n",
              "      <td>0.000679</td>\n",
              "    </tr>\n",
              "    <tr>\n",
              "      <th>3</th>\n",
              "      <td>0.003223</td>\n",
              "      <td>-0.004229</td>\n",
              "      <td>-0.023412</td>\n",
              "      <td>-0.007516</td>\n",
              "      <td>-0.004875</td>\n",
              "    </tr>\n",
              "    <tr>\n",
              "      <th>4</th>\n",
              "      <td>-0.018352</td>\n",
              "      <td>0.023711</td>\n",
              "      <td>0.007417</td>\n",
              "      <td>0.035674</td>\n",
              "      <td>0.060478</td>\n",
              "    </tr>\n",
              "    <tr>\n",
              "      <th>5</th>\n",
              "      <td>0.013624</td>\n",
              "      <td>-0.002650</td>\n",
              "      <td>-0.010649</td>\n",
              "      <td>-0.004490</td>\n",
              "      <td>-0.058245</td>\n",
              "    </tr>\n",
              "    <tr>\n",
              "      <th>...</th>\n",
              "      <td>...</td>\n",
              "      <td>...</td>\n",
              "      <td>...</td>\n",
              "      <td>...</td>\n",
              "      <td>...</td>\n",
              "    </tr>\n",
              "    <tr>\n",
              "      <th>2285</th>\n",
              "      <td>-0.000266</td>\n",
              "      <td>0.000161</td>\n",
              "      <td>-0.002837</td>\n",
              "      <td>-0.000644</td>\n",
              "      <td>-0.005518</td>\n",
              "    </tr>\n",
              "    <tr>\n",
              "      <th>2286</th>\n",
              "      <td>0.009682</td>\n",
              "      <td>-0.002087</td>\n",
              "      <td>0.022048</td>\n",
              "      <td>0.001289</td>\n",
              "      <td>-0.001742</td>\n",
              "    </tr>\n",
              "    <tr>\n",
              "      <th>2287</th>\n",
              "      <td>0.009371</td>\n",
              "      <td>0.006837</td>\n",
              "      <td>0.002784</td>\n",
              "      <td>0.013522</td>\n",
              "      <td>0.005935</td>\n",
              "    </tr>\n",
              "    <tr>\n",
              "      <th>2288</th>\n",
              "      <td>0.002593</td>\n",
              "      <td>-0.005512</td>\n",
              "      <td>-0.002082</td>\n",
              "      <td>-0.011436</td>\n",
              "      <td>0.001145</td>\n",
              "    </tr>\n",
              "    <tr>\n",
              "      <th>2289</th>\n",
              "      <td>-0.001593</td>\n",
              "      <td>-0.015633</td>\n",
              "      <td>0.001794</td>\n",
              "      <td>-0.006799</td>\n",
              "      <td>-0.009291</td>\n",
              "    </tr>\n",
              "  </tbody>\n",
              "</table>\n",
              "<p>2289 rows × 5 columns</p>\n",
              "</div>"
            ],
            "text/plain": [
              "           SPX       GLD       USO       SLV   EUR/USD\n",
              "1     0.000000  0.008367 -0.001274  0.006917  0.001902\n",
              "2    -0.024552 -0.005142 -0.013526 -0.007720  0.000679\n",
              "3     0.003223 -0.004229 -0.023412 -0.007516 -0.004875\n",
              "4    -0.018352  0.023711  0.007417  0.035674  0.060478\n",
              "5     0.013624 -0.002650 -0.010649 -0.004490 -0.058245\n",
              "...        ...       ...       ...       ...       ...\n",
              "2285 -0.000266  0.000161 -0.002837 -0.000644 -0.005518\n",
              "2286  0.009682 -0.002087  0.022048  0.001289 -0.001742\n",
              "2287  0.009371  0.006837  0.002784  0.013522  0.005935\n",
              "2288  0.002593 -0.005512 -0.002082 -0.011436  0.001145\n",
              "2289 -0.001593 -0.015633  0.001794 -0.006799 -0.009291\n",
              "\n",
              "[2289 rows x 5 columns]"
            ]
          },
          "metadata": {},
          "execution_count": 88
        }
      ]
    },
    {
      "cell_type": "markdown",
      "metadata": {
        "id": "fYBd7mQUD3_E"
      },
      "source": [
        "For each asset, let's have the past 7 values as features."
      ]
    },
    {
      "cell_type": "code",
      "metadata": {
        "id": "eg3Zl0ASDmET"
      },
      "source": [
        "column_names = X.columns\n",
        "for i in range(1,8):\n",
        "  for col in column_names:\n",
        "    col_name = col + str(i)\n",
        "    X[col_name] = X[col].shift(i)\n",
        "\n"
      ],
      "execution_count": 92,
      "outputs": []
    },
    {
      "cell_type": "code",
      "metadata": {
        "colab": {
          "base_uri": "https://localhost:8080/",
          "height": 223
        },
        "id": "-lYR7cr_EJZx",
        "outputId": "5c41705f-0e50-4242-b87b-e9e31ea3eafb"
      },
      "source": [
        "X.head()"
      ],
      "execution_count": 93,
      "outputs": [
        {
          "output_type": "execute_result",
          "data": {
            "text/html": [
              "<div>\n",
              "<style scoped>\n",
              "    .dataframe tbody tr th:only-of-type {\n",
              "        vertical-align: middle;\n",
              "    }\n",
              "\n",
              "    .dataframe tbody tr th {\n",
              "        vertical-align: top;\n",
              "    }\n",
              "\n",
              "    .dataframe thead th {\n",
              "        text-align: right;\n",
              "    }\n",
              "</style>\n",
              "<table border=\"1\" class=\"dataframe\">\n",
              "  <thead>\n",
              "    <tr style=\"text-align: right;\">\n",
              "      <th></th>\n",
              "      <th>SPX</th>\n",
              "      <th>GLD</th>\n",
              "      <th>USO</th>\n",
              "      <th>SLV</th>\n",
              "      <th>EUR/USD</th>\n",
              "      <th>SPX1</th>\n",
              "      <th>GLD1</th>\n",
              "      <th>USO1</th>\n",
              "      <th>SLV1</th>\n",
              "      <th>EUR/USD1</th>\n",
              "      <th>SPX2</th>\n",
              "      <th>GLD2</th>\n",
              "      <th>USO2</th>\n",
              "      <th>SLV2</th>\n",
              "      <th>EUR/USD2</th>\n",
              "      <th>SPX3</th>\n",
              "      <th>GLD3</th>\n",
              "      <th>USO3</th>\n",
              "      <th>SLV3</th>\n",
              "      <th>EUR/USD3</th>\n",
              "      <th>SPX4</th>\n",
              "      <th>GLD4</th>\n",
              "      <th>USO4</th>\n",
              "      <th>SLV4</th>\n",
              "      <th>EUR/USD4</th>\n",
              "      <th>SPX5</th>\n",
              "      <th>GLD5</th>\n",
              "      <th>USO5</th>\n",
              "      <th>SLV5</th>\n",
              "      <th>EUR/USD5</th>\n",
              "      <th>SPX6</th>\n",
              "      <th>GLD6</th>\n",
              "      <th>USO6</th>\n",
              "      <th>SLV6</th>\n",
              "      <th>EUR/USD6</th>\n",
              "      <th>SPX7</th>\n",
              "      <th>GLD7</th>\n",
              "      <th>USO7</th>\n",
              "      <th>SLV7</th>\n",
              "      <th>EUR/USD7</th>\n",
              "    </tr>\n",
              "  </thead>\n",
              "  <tbody>\n",
              "    <tr>\n",
              "      <th>1</th>\n",
              "      <td>0.000000</td>\n",
              "      <td>0.008367</td>\n",
              "      <td>-0.001274</td>\n",
              "      <td>0.006917</td>\n",
              "      <td>0.001902</td>\n",
              "      <td>NaN</td>\n",
              "      <td>NaN</td>\n",
              "      <td>NaN</td>\n",
              "      <td>NaN</td>\n",
              "      <td>NaN</td>\n",
              "      <td>NaN</td>\n",
              "      <td>NaN</td>\n",
              "      <td>NaN</td>\n",
              "      <td>NaN</td>\n",
              "      <td>NaN</td>\n",
              "      <td>NaN</td>\n",
              "      <td>NaN</td>\n",
              "      <td>NaN</td>\n",
              "      <td>NaN</td>\n",
              "      <td>NaN</td>\n",
              "      <td>NaN</td>\n",
              "      <td>NaN</td>\n",
              "      <td>NaN</td>\n",
              "      <td>NaN</td>\n",
              "      <td>NaN</td>\n",
              "      <td>NaN</td>\n",
              "      <td>NaN</td>\n",
              "      <td>NaN</td>\n",
              "      <td>NaN</td>\n",
              "      <td>NaN</td>\n",
              "      <td>NaN</td>\n",
              "      <td>NaN</td>\n",
              "      <td>NaN</td>\n",
              "      <td>NaN</td>\n",
              "      <td>NaN</td>\n",
              "      <td>NaN</td>\n",
              "      <td>NaN</td>\n",
              "      <td>NaN</td>\n",
              "      <td>NaN</td>\n",
              "      <td>NaN</td>\n",
              "    </tr>\n",
              "    <tr>\n",
              "      <th>2</th>\n",
              "      <td>-0.024552</td>\n",
              "      <td>-0.005142</td>\n",
              "      <td>-0.013526</td>\n",
              "      <td>-0.007720</td>\n",
              "      <td>0.000679</td>\n",
              "      <td>0.000000</td>\n",
              "      <td>0.008367</td>\n",
              "      <td>-0.001274</td>\n",
              "      <td>0.006917</td>\n",
              "      <td>0.001902</td>\n",
              "      <td>NaN</td>\n",
              "      <td>NaN</td>\n",
              "      <td>NaN</td>\n",
              "      <td>NaN</td>\n",
              "      <td>NaN</td>\n",
              "      <td>NaN</td>\n",
              "      <td>NaN</td>\n",
              "      <td>NaN</td>\n",
              "      <td>NaN</td>\n",
              "      <td>NaN</td>\n",
              "      <td>NaN</td>\n",
              "      <td>NaN</td>\n",
              "      <td>NaN</td>\n",
              "      <td>NaN</td>\n",
              "      <td>NaN</td>\n",
              "      <td>NaN</td>\n",
              "      <td>NaN</td>\n",
              "      <td>NaN</td>\n",
              "      <td>NaN</td>\n",
              "      <td>NaN</td>\n",
              "      <td>NaN</td>\n",
              "      <td>NaN</td>\n",
              "      <td>NaN</td>\n",
              "      <td>NaN</td>\n",
              "      <td>NaN</td>\n",
              "      <td>NaN</td>\n",
              "      <td>NaN</td>\n",
              "      <td>NaN</td>\n",
              "      <td>NaN</td>\n",
              "      <td>NaN</td>\n",
              "    </tr>\n",
              "    <tr>\n",
              "      <th>3</th>\n",
              "      <td>0.003223</td>\n",
              "      <td>-0.004229</td>\n",
              "      <td>-0.023412</td>\n",
              "      <td>-0.007516</td>\n",
              "      <td>-0.004875</td>\n",
              "      <td>-0.024552</td>\n",
              "      <td>-0.005142</td>\n",
              "      <td>-0.013526</td>\n",
              "      <td>-0.007720</td>\n",
              "      <td>0.000679</td>\n",
              "      <td>0.000000</td>\n",
              "      <td>0.008367</td>\n",
              "      <td>-0.001274</td>\n",
              "      <td>0.006917</td>\n",
              "      <td>0.001902</td>\n",
              "      <td>NaN</td>\n",
              "      <td>NaN</td>\n",
              "      <td>NaN</td>\n",
              "      <td>NaN</td>\n",
              "      <td>NaN</td>\n",
              "      <td>NaN</td>\n",
              "      <td>NaN</td>\n",
              "      <td>NaN</td>\n",
              "      <td>NaN</td>\n",
              "      <td>NaN</td>\n",
              "      <td>NaN</td>\n",
              "      <td>NaN</td>\n",
              "      <td>NaN</td>\n",
              "      <td>NaN</td>\n",
              "      <td>NaN</td>\n",
              "      <td>NaN</td>\n",
              "      <td>NaN</td>\n",
              "      <td>NaN</td>\n",
              "      <td>NaN</td>\n",
              "      <td>NaN</td>\n",
              "      <td>NaN</td>\n",
              "      <td>NaN</td>\n",
              "      <td>NaN</td>\n",
              "      <td>NaN</td>\n",
              "      <td>NaN</td>\n",
              "    </tr>\n",
              "    <tr>\n",
              "      <th>4</th>\n",
              "      <td>-0.018352</td>\n",
              "      <td>0.023711</td>\n",
              "      <td>0.007417</td>\n",
              "      <td>0.035674</td>\n",
              "      <td>0.060478</td>\n",
              "      <td>0.003223</td>\n",
              "      <td>-0.004229</td>\n",
              "      <td>-0.023412</td>\n",
              "      <td>-0.007516</td>\n",
              "      <td>-0.004875</td>\n",
              "      <td>-0.024552</td>\n",
              "      <td>-0.005142</td>\n",
              "      <td>-0.013526</td>\n",
              "      <td>-0.007720</td>\n",
              "      <td>0.000679</td>\n",
              "      <td>0.000000</td>\n",
              "      <td>0.008367</td>\n",
              "      <td>-0.001274</td>\n",
              "      <td>0.006917</td>\n",
              "      <td>0.001902</td>\n",
              "      <td>NaN</td>\n",
              "      <td>NaN</td>\n",
              "      <td>NaN</td>\n",
              "      <td>NaN</td>\n",
              "      <td>NaN</td>\n",
              "      <td>NaN</td>\n",
              "      <td>NaN</td>\n",
              "      <td>NaN</td>\n",
              "      <td>NaN</td>\n",
              "      <td>NaN</td>\n",
              "      <td>NaN</td>\n",
              "      <td>NaN</td>\n",
              "      <td>NaN</td>\n",
              "      <td>NaN</td>\n",
              "      <td>NaN</td>\n",
              "      <td>NaN</td>\n",
              "      <td>NaN</td>\n",
              "      <td>NaN</td>\n",
              "      <td>NaN</td>\n",
              "      <td>NaN</td>\n",
              "    </tr>\n",
              "    <tr>\n",
              "      <th>5</th>\n",
              "      <td>0.013624</td>\n",
              "      <td>-0.002650</td>\n",
              "      <td>-0.010649</td>\n",
              "      <td>-0.004490</td>\n",
              "      <td>-0.058245</td>\n",
              "      <td>-0.018352</td>\n",
              "      <td>0.023711</td>\n",
              "      <td>0.007417</td>\n",
              "      <td>0.035674</td>\n",
              "      <td>0.060478</td>\n",
              "      <td>0.003223</td>\n",
              "      <td>-0.004229</td>\n",
              "      <td>-0.023412</td>\n",
              "      <td>-0.007516</td>\n",
              "      <td>-0.004875</td>\n",
              "      <td>-0.024552</td>\n",
              "      <td>-0.005142</td>\n",
              "      <td>-0.013526</td>\n",
              "      <td>-0.007720</td>\n",
              "      <td>0.000679</td>\n",
              "      <td>0.0</td>\n",
              "      <td>0.008367</td>\n",
              "      <td>-0.001274</td>\n",
              "      <td>0.006917</td>\n",
              "      <td>0.001902</td>\n",
              "      <td>NaN</td>\n",
              "      <td>NaN</td>\n",
              "      <td>NaN</td>\n",
              "      <td>NaN</td>\n",
              "      <td>NaN</td>\n",
              "      <td>NaN</td>\n",
              "      <td>NaN</td>\n",
              "      <td>NaN</td>\n",
              "      <td>NaN</td>\n",
              "      <td>NaN</td>\n",
              "      <td>NaN</td>\n",
              "      <td>NaN</td>\n",
              "      <td>NaN</td>\n",
              "      <td>NaN</td>\n",
              "      <td>NaN</td>\n",
              "    </tr>\n",
              "  </tbody>\n",
              "</table>\n",
              "</div>"
            ],
            "text/plain": [
              "        SPX       GLD       USO       SLV  ...  GLD7  USO7  SLV7  EUR/USD7\n",
              "1  0.000000  0.008367 -0.001274  0.006917  ...   NaN   NaN   NaN       NaN\n",
              "2 -0.024552 -0.005142 -0.013526 -0.007720  ...   NaN   NaN   NaN       NaN\n",
              "3  0.003223 -0.004229 -0.023412 -0.007516  ...   NaN   NaN   NaN       NaN\n",
              "4 -0.018352  0.023711  0.007417  0.035674  ...   NaN   NaN   NaN       NaN\n",
              "5  0.013624 -0.002650 -0.010649 -0.004490  ...   NaN   NaN   NaN       NaN\n",
              "\n",
              "[5 rows x 40 columns]"
            ]
          },
          "metadata": {},
          "execution_count": 93
        }
      ]
    },
    {
      "cell_type": "code",
      "metadata": {
        "colab": {
          "base_uri": "https://localhost:8080/"
        },
        "id": "pbVJIbFHENtj",
        "outputId": "2179dd42-621e-4197-b8ae-3bdafcf230c0"
      },
      "source": [
        "X.isnull().sum()"
      ],
      "execution_count": 94,
      "outputs": [
        {
          "output_type": "execute_result",
          "data": {
            "text/plain": [
              "SPX         0\n",
              "GLD         0\n",
              "USO         0\n",
              "SLV         0\n",
              "EUR/USD     0\n",
              "SPX1        1\n",
              "GLD1        1\n",
              "USO1        1\n",
              "SLV1        1\n",
              "EUR/USD1    1\n",
              "SPX2        2\n",
              "GLD2        2\n",
              "USO2        2\n",
              "SLV2        2\n",
              "EUR/USD2    2\n",
              "SPX3        3\n",
              "GLD3        3\n",
              "USO3        3\n",
              "SLV3        3\n",
              "EUR/USD3    3\n",
              "SPX4        4\n",
              "GLD4        4\n",
              "USO4        4\n",
              "SLV4        4\n",
              "EUR/USD4    4\n",
              "SPX5        5\n",
              "GLD5        5\n",
              "USO5        5\n",
              "SLV5        5\n",
              "EUR/USD5    5\n",
              "SPX6        6\n",
              "GLD6        6\n",
              "USO6        6\n",
              "SLV6        6\n",
              "EUR/USD6    6\n",
              "SPX7        7\n",
              "GLD7        7\n",
              "USO7        7\n",
              "SLV7        7\n",
              "EUR/USD7    7\n",
              "dtype: int64"
            ]
          },
          "metadata": {},
          "execution_count": 94
        }
      ]
    },
    {
      "cell_type": "markdown",
      "metadata": {
        "id": "3PItAIwSFii8"
      },
      "source": [
        "Let's remove the first 7 rows from X and Y and then train the model on the new dataset."
      ]
    },
    {
      "cell_type": "code",
      "metadata": {
        "id": "tla4292YFf72"
      },
      "source": [
        "X.dropna(axis = 0, inplace=True)"
      ],
      "execution_count": 98,
      "outputs": []
    },
    {
      "cell_type": "code",
      "metadata": {
        "colab": {
          "base_uri": "https://localhost:8080/",
          "height": 437
        },
        "id": "0pm4lUSrFzPV",
        "outputId": "ca1d40c9-c070-4bd1-e161-1b0b7c83677c"
      },
      "source": [
        "X"
      ],
      "execution_count": 100,
      "outputs": [
        {
          "output_type": "execute_result",
          "data": {
            "text/html": [
              "<div>\n",
              "<style scoped>\n",
              "    .dataframe tbody tr th:only-of-type {\n",
              "        vertical-align: middle;\n",
              "    }\n",
              "\n",
              "    .dataframe tbody tr th {\n",
              "        vertical-align: top;\n",
              "    }\n",
              "\n",
              "    .dataframe thead th {\n",
              "        text-align: right;\n",
              "    }\n",
              "</style>\n",
              "<table border=\"1\" class=\"dataframe\">\n",
              "  <thead>\n",
              "    <tr style=\"text-align: right;\">\n",
              "      <th></th>\n",
              "      <th>SPX</th>\n",
              "      <th>GLD</th>\n",
              "      <th>USO</th>\n",
              "      <th>SLV</th>\n",
              "      <th>EUR/USD</th>\n",
              "      <th>SPX1</th>\n",
              "      <th>GLD1</th>\n",
              "      <th>USO1</th>\n",
              "      <th>SLV1</th>\n",
              "      <th>EUR/USD1</th>\n",
              "      <th>SPX2</th>\n",
              "      <th>GLD2</th>\n",
              "      <th>USO2</th>\n",
              "      <th>SLV2</th>\n",
              "      <th>EUR/USD2</th>\n",
              "      <th>SPX3</th>\n",
              "      <th>GLD3</th>\n",
              "      <th>USO3</th>\n",
              "      <th>SLV3</th>\n",
              "      <th>EUR/USD3</th>\n",
              "      <th>SPX4</th>\n",
              "      <th>GLD4</th>\n",
              "      <th>USO4</th>\n",
              "      <th>SLV4</th>\n",
              "      <th>EUR/USD4</th>\n",
              "      <th>SPX5</th>\n",
              "      <th>GLD5</th>\n",
              "      <th>USO5</th>\n",
              "      <th>SLV5</th>\n",
              "      <th>EUR/USD5</th>\n",
              "      <th>SPX6</th>\n",
              "      <th>GLD6</th>\n",
              "      <th>USO6</th>\n",
              "      <th>SLV6</th>\n",
              "      <th>EUR/USD6</th>\n",
              "      <th>SPX7</th>\n",
              "      <th>GLD7</th>\n",
              "      <th>USO7</th>\n",
              "      <th>SLV7</th>\n",
              "      <th>EUR/USD7</th>\n",
              "    </tr>\n",
              "  </thead>\n",
              "  <tbody>\n",
              "    <tr>\n",
              "      <th>8</th>\n",
              "      <td>0.010871</td>\n",
              "      <td>0.010838</td>\n",
              "      <td>0.015871</td>\n",
              "      <td>0.012627</td>\n",
              "      <td>0.005337</td>\n",
              "      <td>-0.013595</td>\n",
              "      <td>0.003739</td>\n",
              "      <td>-0.012564</td>\n",
              "      <td>0.000996</td>\n",
              "      <td>-0.000739</td>\n",
              "      <td>0.007948</td>\n",
              "      <td>0.019642</td>\n",
              "      <td>-0.016346</td>\n",
              "      <td>0.034858</td>\n",
              "      <td>0.009339</td>\n",
              "      <td>0.013624</td>\n",
              "      <td>-0.002650</td>\n",
              "      <td>-0.010649</td>\n",
              "      <td>-0.004490</td>\n",
              "      <td>-0.058245</td>\n",
              "      <td>-0.018352</td>\n",
              "      <td>0.023711</td>\n",
              "      <td>0.007417</td>\n",
              "      <td>0.035674</td>\n",
              "      <td>0.060478</td>\n",
              "      <td>0.003223</td>\n",
              "      <td>-0.004229</td>\n",
              "      <td>-0.023412</td>\n",
              "      <td>-0.007516</td>\n",
              "      <td>-0.004875</td>\n",
              "      <td>-0.024552</td>\n",
              "      <td>-0.005142</td>\n",
              "      <td>-0.013526</td>\n",
              "      <td>-0.007720</td>\n",
              "      <td>0.000679</td>\n",
              "      <td>0.000000</td>\n",
              "      <td>0.008367</td>\n",
              "      <td>-0.001274</td>\n",
              "      <td>0.006917</td>\n",
              "      <td>0.001902</td>\n",
              "    </tr>\n",
              "    <tr>\n",
              "      <th>9</th>\n",
              "      <td>-0.024925</td>\n",
              "      <td>-0.017311</td>\n",
              "      <td>-0.019798</td>\n",
              "      <td>-0.027396</td>\n",
              "      <td>-0.004499</td>\n",
              "      <td>0.010871</td>\n",
              "      <td>0.010838</td>\n",
              "      <td>0.015871</td>\n",
              "      <td>0.012627</td>\n",
              "      <td>0.005337</td>\n",
              "      <td>-0.013595</td>\n",
              "      <td>0.003739</td>\n",
              "      <td>-0.012564</td>\n",
              "      <td>0.000996</td>\n",
              "      <td>-0.000739</td>\n",
              "      <td>0.007948</td>\n",
              "      <td>0.019642</td>\n",
              "      <td>-0.016346</td>\n",
              "      <td>0.034858</td>\n",
              "      <td>0.009339</td>\n",
              "      <td>0.013624</td>\n",
              "      <td>-0.002650</td>\n",
              "      <td>-0.010649</td>\n",
              "      <td>-0.004490</td>\n",
              "      <td>-0.058245</td>\n",
              "      <td>-0.018352</td>\n",
              "      <td>0.023711</td>\n",
              "      <td>0.007417</td>\n",
              "      <td>0.035674</td>\n",
              "      <td>0.060478</td>\n",
              "      <td>0.003223</td>\n",
              "      <td>-0.004229</td>\n",
              "      <td>-0.023412</td>\n",
              "      <td>-0.007516</td>\n",
              "      <td>-0.004875</td>\n",
              "      <td>-0.024552</td>\n",
              "      <td>-0.005142</td>\n",
              "      <td>-0.013526</td>\n",
              "      <td>-0.007720</td>\n",
              "      <td>0.000679</td>\n",
              "    </tr>\n",
              "    <tr>\n",
              "      <th>10</th>\n",
              "      <td>-0.005612</td>\n",
              "      <td>-0.014661</td>\n",
              "      <td>-0.012778</td>\n",
              "      <td>-0.011368</td>\n",
              "      <td>-0.009326</td>\n",
              "      <td>-0.024925</td>\n",
              "      <td>-0.017311</td>\n",
              "      <td>-0.019798</td>\n",
              "      <td>-0.027396</td>\n",
              "      <td>-0.004499</td>\n",
              "      <td>0.010871</td>\n",
              "      <td>0.010838</td>\n",
              "      <td>0.015871</td>\n",
              "      <td>0.012627</td>\n",
              "      <td>0.005337</td>\n",
              "      <td>-0.013595</td>\n",
              "      <td>0.003739</td>\n",
              "      <td>-0.012564</td>\n",
              "      <td>0.000996</td>\n",
              "      <td>-0.000739</td>\n",
              "      <td>0.007948</td>\n",
              "      <td>0.019642</td>\n",
              "      <td>-0.016346</td>\n",
              "      <td>0.034858</td>\n",
              "      <td>0.009339</td>\n",
              "      <td>0.013624</td>\n",
              "      <td>-0.002650</td>\n",
              "      <td>-0.010649</td>\n",
              "      <td>-0.004490</td>\n",
              "      <td>-0.058245</td>\n",
              "      <td>-0.018352</td>\n",
              "      <td>0.023711</td>\n",
              "      <td>0.007417</td>\n",
              "      <td>0.035674</td>\n",
              "      <td>0.060478</td>\n",
              "      <td>0.003223</td>\n",
              "      <td>-0.004229</td>\n",
              "      <td>-0.023412</td>\n",
              "      <td>-0.007516</td>\n",
              "      <td>-0.004875</td>\n",
              "    </tr>\n",
              "    <tr>\n",
              "      <th>11</th>\n",
              "      <td>-0.029093</td>\n",
              "      <td>-0.002307</td>\n",
              "      <td>-0.011413</td>\n",
              "      <td>0.004025</td>\n",
              "      <td>-0.001640</td>\n",
              "      <td>-0.005612</td>\n",
              "      <td>-0.014661</td>\n",
              "      <td>-0.012778</td>\n",
              "      <td>-0.011368</td>\n",
              "      <td>-0.009326</td>\n",
              "      <td>-0.024925</td>\n",
              "      <td>-0.017311</td>\n",
              "      <td>-0.019798</td>\n",
              "      <td>-0.027396</td>\n",
              "      <td>-0.004499</td>\n",
              "      <td>0.010871</td>\n",
              "      <td>0.010838</td>\n",
              "      <td>0.015871</td>\n",
              "      <td>0.012627</td>\n",
              "      <td>0.005337</td>\n",
              "      <td>-0.013595</td>\n",
              "      <td>0.003739</td>\n",
              "      <td>-0.012564</td>\n",
              "      <td>0.000996</td>\n",
              "      <td>-0.000739</td>\n",
              "      <td>0.007948</td>\n",
              "      <td>0.019642</td>\n",
              "      <td>-0.016346</td>\n",
              "      <td>0.034858</td>\n",
              "      <td>0.009339</td>\n",
              "      <td>0.013624</td>\n",
              "      <td>-0.002650</td>\n",
              "      <td>-0.010649</td>\n",
              "      <td>-0.004490</td>\n",
              "      <td>-0.058245</td>\n",
              "      <td>-0.018352</td>\n",
              "      <td>0.023711</td>\n",
              "      <td>0.007417</td>\n",
              "      <td>0.035674</td>\n",
              "      <td>0.060478</td>\n",
              "    </tr>\n",
              "    <tr>\n",
              "      <th>12</th>\n",
              "      <td>-0.006045</td>\n",
              "      <td>0.010636</td>\n",
              "      <td>0.007180</td>\n",
              "      <td>0.019915</td>\n",
              "      <td>-0.001505</td>\n",
              "      <td>-0.029093</td>\n",
              "      <td>-0.002307</td>\n",
              "      <td>-0.011413</td>\n",
              "      <td>0.004025</td>\n",
              "      <td>-0.001640</td>\n",
              "      <td>-0.005612</td>\n",
              "      <td>-0.014661</td>\n",
              "      <td>-0.012778</td>\n",
              "      <td>-0.011368</td>\n",
              "      <td>-0.009326</td>\n",
              "      <td>-0.024925</td>\n",
              "      <td>-0.017311</td>\n",
              "      <td>-0.019798</td>\n",
              "      <td>-0.027396</td>\n",
              "      <td>-0.004499</td>\n",
              "      <td>0.010871</td>\n",
              "      <td>0.010838</td>\n",
              "      <td>0.015871</td>\n",
              "      <td>0.012627</td>\n",
              "      <td>0.005337</td>\n",
              "      <td>-0.013595</td>\n",
              "      <td>0.003739</td>\n",
              "      <td>-0.012564</td>\n",
              "      <td>0.000996</td>\n",
              "      <td>-0.000739</td>\n",
              "      <td>0.007948</td>\n",
              "      <td>0.019642</td>\n",
              "      <td>-0.016346</td>\n",
              "      <td>0.034858</td>\n",
              "      <td>0.009339</td>\n",
              "      <td>0.013624</td>\n",
              "      <td>-0.002650</td>\n",
              "      <td>-0.010649</td>\n",
              "      <td>-0.004490</td>\n",
              "      <td>-0.058245</td>\n",
              "    </tr>\n",
              "    <tr>\n",
              "      <th>...</th>\n",
              "      <td>...</td>\n",
              "      <td>...</td>\n",
              "      <td>...</td>\n",
              "      <td>...</td>\n",
              "      <td>...</td>\n",
              "      <td>...</td>\n",
              "      <td>...</td>\n",
              "      <td>...</td>\n",
              "      <td>...</td>\n",
              "      <td>...</td>\n",
              "      <td>...</td>\n",
              "      <td>...</td>\n",
              "      <td>...</td>\n",
              "      <td>...</td>\n",
              "      <td>...</td>\n",
              "      <td>...</td>\n",
              "      <td>...</td>\n",
              "      <td>...</td>\n",
              "      <td>...</td>\n",
              "      <td>...</td>\n",
              "      <td>...</td>\n",
              "      <td>...</td>\n",
              "      <td>...</td>\n",
              "      <td>...</td>\n",
              "      <td>...</td>\n",
              "      <td>...</td>\n",
              "      <td>...</td>\n",
              "      <td>...</td>\n",
              "      <td>...</td>\n",
              "      <td>...</td>\n",
              "      <td>...</td>\n",
              "      <td>...</td>\n",
              "      <td>...</td>\n",
              "      <td>...</td>\n",
              "      <td>...</td>\n",
              "      <td>...</td>\n",
              "      <td>...</td>\n",
              "      <td>...</td>\n",
              "      <td>...</td>\n",
              "      <td>...</td>\n",
              "    </tr>\n",
              "    <tr>\n",
              "      <th>2285</th>\n",
              "      <td>-0.000266</td>\n",
              "      <td>0.000161</td>\n",
              "      <td>-0.002837</td>\n",
              "      <td>-0.000644</td>\n",
              "      <td>-0.005518</td>\n",
              "      <td>0.016313</td>\n",
              "      <td>0.002333</td>\n",
              "      <td>0.020260</td>\n",
              "      <td>0.003881</td>\n",
              "      <td>-0.004631</td>\n",
              "      <td>-0.002254</td>\n",
              "      <td>0.005095</td>\n",
              "      <td>0.010973</td>\n",
              "      <td>0.002594</td>\n",
              "      <td>0.003201</td>\n",
              "      <td>-0.007206</td>\n",
              "      <td>-0.000485</td>\n",
              "      <td>0.004409</td>\n",
              "      <td>0.011811</td>\n",
              "      <td>-0.003382</td>\n",
              "      <td>0.002549</td>\n",
              "      <td>-0.007063</td>\n",
              "      <td>-0.013768</td>\n",
              "      <td>-0.009103</td>\n",
              "      <td>-0.007422</td>\n",
              "      <td>-0.007083</td>\n",
              "      <td>-0.003041</td>\n",
              "      <td>0.002179</td>\n",
              "      <td>-0.012837</td>\n",
              "      <td>-0.002344</td>\n",
              "      <td>0.010434</td>\n",
              "      <td>-0.003509</td>\n",
              "      <td>0.003644</td>\n",
              "      <td>-0.001922</td>\n",
              "      <td>-0.005098</td>\n",
              "      <td>0.001837</td>\n",
              "      <td>-0.006496</td>\n",
              "      <td>0.002924</td>\n",
              "      <td>-0.009518</td>\n",
              "      <td>-0.005696</td>\n",
              "    </tr>\n",
              "    <tr>\n",
              "      <th>2286</th>\n",
              "      <td>0.009682</td>\n",
              "      <td>-0.002087</td>\n",
              "      <td>0.022048</td>\n",
              "      <td>0.001289</td>\n",
              "      <td>-0.001742</td>\n",
              "      <td>-0.000266</td>\n",
              "      <td>0.000161</td>\n",
              "      <td>-0.002837</td>\n",
              "      <td>-0.000644</td>\n",
              "      <td>-0.005518</td>\n",
              "      <td>0.016313</td>\n",
              "      <td>0.002333</td>\n",
              "      <td>0.020260</td>\n",
              "      <td>0.003881</td>\n",
              "      <td>-0.004631</td>\n",
              "      <td>-0.002254</td>\n",
              "      <td>0.005095</td>\n",
              "      <td>0.010973</td>\n",
              "      <td>0.002594</td>\n",
              "      <td>0.003201</td>\n",
              "      <td>-0.007206</td>\n",
              "      <td>-0.000485</td>\n",
              "      <td>0.004409</td>\n",
              "      <td>0.011811</td>\n",
              "      <td>-0.003382</td>\n",
              "      <td>0.002549</td>\n",
              "      <td>-0.007063</td>\n",
              "      <td>-0.013768</td>\n",
              "      <td>-0.009103</td>\n",
              "      <td>-0.007422</td>\n",
              "      <td>-0.007083</td>\n",
              "      <td>-0.003041</td>\n",
              "      <td>0.002179</td>\n",
              "      <td>-0.012837</td>\n",
              "      <td>-0.002344</td>\n",
              "      <td>0.010434</td>\n",
              "      <td>-0.003509</td>\n",
              "      <td>0.003644</td>\n",
              "      <td>-0.001922</td>\n",
              "      <td>-0.005098</td>\n",
              "    </tr>\n",
              "    <tr>\n",
              "      <th>2287</th>\n",
              "      <td>0.009371</td>\n",
              "      <td>0.006837</td>\n",
              "      <td>0.002784</td>\n",
              "      <td>0.013522</td>\n",
              "      <td>0.005935</td>\n",
              "      <td>0.009682</td>\n",
              "      <td>-0.002087</td>\n",
              "      <td>0.022048</td>\n",
              "      <td>0.001289</td>\n",
              "      <td>-0.001742</td>\n",
              "      <td>-0.000266</td>\n",
              "      <td>0.000161</td>\n",
              "      <td>-0.002837</td>\n",
              "      <td>-0.000644</td>\n",
              "      <td>-0.005518</td>\n",
              "      <td>0.016313</td>\n",
              "      <td>0.002333</td>\n",
              "      <td>0.020260</td>\n",
              "      <td>0.003881</td>\n",
              "      <td>-0.004631</td>\n",
              "      <td>-0.002254</td>\n",
              "      <td>0.005095</td>\n",
              "      <td>0.010973</td>\n",
              "      <td>0.002594</td>\n",
              "      <td>0.003201</td>\n",
              "      <td>-0.007206</td>\n",
              "      <td>-0.000485</td>\n",
              "      <td>0.004409</td>\n",
              "      <td>0.011811</td>\n",
              "      <td>-0.003382</td>\n",
              "      <td>0.002549</td>\n",
              "      <td>-0.007063</td>\n",
              "      <td>-0.013768</td>\n",
              "      <td>-0.009103</td>\n",
              "      <td>-0.007422</td>\n",
              "      <td>-0.007083</td>\n",
              "      <td>-0.003041</td>\n",
              "      <td>0.002179</td>\n",
              "      <td>-0.012837</td>\n",
              "      <td>-0.002344</td>\n",
              "    </tr>\n",
              "    <tr>\n",
              "      <th>2288</th>\n",
              "      <td>0.002593</td>\n",
              "      <td>-0.005512</td>\n",
              "      <td>-0.002082</td>\n",
              "      <td>-0.011436</td>\n",
              "      <td>0.001145</td>\n",
              "      <td>0.009371</td>\n",
              "      <td>0.006837</td>\n",
              "      <td>0.002784</td>\n",
              "      <td>0.013522</td>\n",
              "      <td>0.005935</td>\n",
              "      <td>0.009682</td>\n",
              "      <td>-0.002087</td>\n",
              "      <td>0.022048</td>\n",
              "      <td>0.001289</td>\n",
              "      <td>-0.001742</td>\n",
              "      <td>-0.000266</td>\n",
              "      <td>0.000161</td>\n",
              "      <td>-0.002837</td>\n",
              "      <td>-0.000644</td>\n",
              "      <td>-0.005518</td>\n",
              "      <td>0.016313</td>\n",
              "      <td>0.002333</td>\n",
              "      <td>0.020260</td>\n",
              "      <td>0.003881</td>\n",
              "      <td>-0.004631</td>\n",
              "      <td>-0.002254</td>\n",
              "      <td>0.005095</td>\n",
              "      <td>0.010973</td>\n",
              "      <td>0.002594</td>\n",
              "      <td>0.003201</td>\n",
              "      <td>-0.007206</td>\n",
              "      <td>-0.000485</td>\n",
              "      <td>0.004409</td>\n",
              "      <td>0.011811</td>\n",
              "      <td>-0.003382</td>\n",
              "      <td>0.002549</td>\n",
              "      <td>-0.007063</td>\n",
              "      <td>-0.013768</td>\n",
              "      <td>-0.009103</td>\n",
              "      <td>-0.007422</td>\n",
              "    </tr>\n",
              "    <tr>\n",
              "      <th>2289</th>\n",
              "      <td>-0.001593</td>\n",
              "      <td>-0.015633</td>\n",
              "      <td>0.001794</td>\n",
              "      <td>-0.006799</td>\n",
              "      <td>-0.009291</td>\n",
              "      <td>0.002593</td>\n",
              "      <td>-0.005512</td>\n",
              "      <td>-0.002082</td>\n",
              "      <td>-0.011436</td>\n",
              "      <td>0.001145</td>\n",
              "      <td>0.009371</td>\n",
              "      <td>0.006837</td>\n",
              "      <td>0.002784</td>\n",
              "      <td>0.013522</td>\n",
              "      <td>0.005935</td>\n",
              "      <td>0.009682</td>\n",
              "      <td>-0.002087</td>\n",
              "      <td>0.022048</td>\n",
              "      <td>0.001289</td>\n",
              "      <td>-0.001742</td>\n",
              "      <td>-0.000266</td>\n",
              "      <td>0.000161</td>\n",
              "      <td>-0.002837</td>\n",
              "      <td>-0.000644</td>\n",
              "      <td>-0.005518</td>\n",
              "      <td>0.016313</td>\n",
              "      <td>0.002333</td>\n",
              "      <td>0.020260</td>\n",
              "      <td>0.003881</td>\n",
              "      <td>-0.004631</td>\n",
              "      <td>-0.002254</td>\n",
              "      <td>0.005095</td>\n",
              "      <td>0.010973</td>\n",
              "      <td>0.002594</td>\n",
              "      <td>0.003201</td>\n",
              "      <td>-0.007206</td>\n",
              "      <td>-0.000485</td>\n",
              "      <td>0.004409</td>\n",
              "      <td>0.011811</td>\n",
              "      <td>-0.003382</td>\n",
              "    </tr>\n",
              "  </tbody>\n",
              "</table>\n",
              "<p>2282 rows × 40 columns</p>\n",
              "</div>"
            ],
            "text/plain": [
              "           SPX       GLD       USO  ...      USO7      SLV7  EUR/USD7\n",
              "8     0.010871  0.010838  0.015871  ... -0.001274  0.006917  0.001902\n",
              "9    -0.024925 -0.017311 -0.019798  ... -0.013526 -0.007720  0.000679\n",
              "10   -0.005612 -0.014661 -0.012778  ... -0.023412 -0.007516 -0.004875\n",
              "11   -0.029093 -0.002307 -0.011413  ...  0.007417  0.035674  0.060478\n",
              "12   -0.006045  0.010636  0.007180  ... -0.010649 -0.004490 -0.058245\n",
              "...        ...       ...       ...  ...       ...       ...       ...\n",
              "2285 -0.000266  0.000161 -0.002837  ...  0.002924 -0.009518 -0.005696\n",
              "2286  0.009682 -0.002087  0.022048  ...  0.003644 -0.001922 -0.005098\n",
              "2287  0.009371  0.006837  0.002784  ...  0.002179 -0.012837 -0.002344\n",
              "2288  0.002593 -0.005512 -0.002082  ... -0.013768 -0.009103 -0.007422\n",
              "2289 -0.001593 -0.015633  0.001794  ...  0.004409  0.011811 -0.003382\n",
              "\n",
              "[2282 rows x 40 columns]"
            ]
          },
          "metadata": {},
          "execution_count": 100
        }
      ]
    },
    {
      "cell_type": "code",
      "metadata": {
        "colab": {
          "base_uri": "https://localhost:8080/"
        },
        "id": "IpeDWZ98F3F9",
        "outputId": "52ea4544-f90d-43f2-ee5d-1a6b489c3bd1"
      },
      "source": [
        "Y"
      ],
      "execution_count": 101,
      "outputs": [
        {
          "output_type": "execute_result",
          "data": {
            "text/plain": [
              "1      -0.005142\n",
              "2      -0.004229\n",
              "3       0.023711\n",
              "4      -0.002650\n",
              "5       0.019642\n",
              "          ...   \n",
              "2285   -0.002087\n",
              "2286    0.006837\n",
              "2287   -0.005512\n",
              "2288   -0.015633\n",
              "2289    0.000000\n",
              "Name: Next_GLD, Length: 2289, dtype: float64"
            ]
          },
          "metadata": {},
          "execution_count": 101
        }
      ]
    },
    {
      "cell_type": "code",
      "metadata": {
        "id": "L4a7bQAsF4hk"
      },
      "source": [
        "Y = Y.iloc[7:]"
      ],
      "execution_count": 105,
      "outputs": []
    },
    {
      "cell_type": "code",
      "metadata": {
        "colab": {
          "base_uri": "https://localhost:8080/"
        },
        "id": "y57rwJWaGOuF",
        "outputId": "8e7c8a26-0394-4a46-aa09-25d72b566b7f"
      },
      "source": [
        "Y"
      ],
      "execution_count": 106,
      "outputs": [
        {
          "output_type": "execute_result",
          "data": {
            "text/plain": [
              "8      -0.017311\n",
              "9      -0.014661\n",
              "10     -0.002307\n",
              "11      0.010636\n",
              "12      0.008579\n",
              "          ...   \n",
              "2285   -0.002087\n",
              "2286    0.006837\n",
              "2287   -0.005512\n",
              "2288   -0.015633\n",
              "2289    0.000000\n",
              "Name: Next_GLD, Length: 2282, dtype: float64"
            ]
          },
          "metadata": {},
          "execution_count": 106
        }
      ]
    },
    {
      "cell_type": "code",
      "metadata": {
        "id": "1Kd5Sw4aGv46"
      },
      "source": [
        "X_train, X_test, Y_train, Y_test = train_test_split(X, Y, shuffle = False, test_size = 0.2)"
      ],
      "execution_count": 108,
      "outputs": []
    },
    {
      "cell_type": "code",
      "metadata": {
        "colab": {
          "base_uri": "https://localhost:8080/"
        },
        "id": "KNr6dZtSGvy4",
        "outputId": "a48f1339-1b4e-49d7-a340-b40ed43e299a"
      },
      "source": [
        "print(X_train.shape, X_test.shape, X.shape)"
      ],
      "execution_count": 109,
      "outputs": [
        {
          "output_type": "stream",
          "name": "stdout",
          "text": [
            "(1825, 40) (457, 40) (2282, 40)\n"
          ]
        }
      ]
    },
    {
      "cell_type": "code",
      "metadata": {
        "id": "Go2sUv0cGvoN"
      },
      "source": [
        ""
      ],
      "execution_count": null,
      "outputs": []
    },
    {
      "cell_type": "code",
      "metadata": {
        "id": "xQRH0ME0GPgM"
      },
      "source": [
        "regressor2 = RandomForestRegressor(n_estimators=200)"
      ],
      "execution_count": 110,
      "outputs": []
    },
    {
      "cell_type": "code",
      "metadata": {
        "colab": {
          "base_uri": "https://localhost:8080/"
        },
        "id": "PG8k71YIGrPz",
        "outputId": "82a872e7-27d1-4f68-db9f-173b6d8c9d31"
      },
      "source": [
        "regressor2.fit(X_train, Y_train)"
      ],
      "execution_count": 111,
      "outputs": [
        {
          "output_type": "execute_result",
          "data": {
            "text/plain": [
              "RandomForestRegressor(bootstrap=True, ccp_alpha=0.0, criterion='mse',\n",
              "                      max_depth=None, max_features='auto', max_leaf_nodes=None,\n",
              "                      max_samples=None, min_impurity_decrease=0.0,\n",
              "                      min_impurity_split=None, min_samples_leaf=1,\n",
              "                      min_samples_split=2, min_weight_fraction_leaf=0.0,\n",
              "                      n_estimators=200, n_jobs=None, oob_score=False,\n",
              "                      random_state=None, verbose=0, warm_start=False)"
            ]
          },
          "metadata": {},
          "execution_count": 111
        }
      ]
    },
    {
      "cell_type": "code",
      "metadata": {
        "id": "-Ixl6l4bHVhB"
      },
      "source": [
        "Y_test_predict = regressor2.predict(X_test)"
      ],
      "execution_count": 112,
      "outputs": []
    },
    {
      "cell_type": "code",
      "metadata": {
        "colab": {
          "base_uri": "https://localhost:8080/"
        },
        "id": "wEqSwd9-Hkwp",
        "outputId": "18281ce6-c500-4427-fb0d-6d79cfce7264"
      },
      "source": [
        "#r2 evaluation\n",
        "metrics.r2_score(Y_test, Y_test_predict)\n"
      ],
      "execution_count": 113,
      "outputs": [
        {
          "output_type": "execute_result",
          "data": {
            "text/plain": [
              "-0.06029965601415199"
            ]
          },
          "metadata": {},
          "execution_count": 113
        }
      ]
    },
    {
      "cell_type": "code",
      "metadata": {
        "id": "eLCVQZLxHyFI"
      },
      "source": [
        ""
      ],
      "execution_count": null,
      "outputs": []
    }
  ]
}